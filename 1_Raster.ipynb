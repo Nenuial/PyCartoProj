{
 "cells": [
  {
   "cell_type": "code",
   "execution_count": null,
   "id": "d992dd17-c54f-4014-8d1f-03cf0fec82e2",
   "metadata": {},
   "outputs": [],
   "source": [
    "import matplotlib.pyplot as plt # Pour afficher les données raster\n",
    "from matplotlib import cm # Pour la palette de couleur\n",
    "from osgeo import gdal # Pour lire les données raster"
   ]
  },
  {
   "cell_type": "code",
   "execution_count": null,
   "id": "d80bf7ad-1bc0-4242-bfb6-0b2ade210c28",
   "metadata": {},
   "outputs": [],
   "source": [
    "DEM = gdal.Open(\"geodata/Neuchatel.tif\")\n",
    "DEM_Array = DEM.GetRasterBand(1).ReadAsArray()"
   ]
  }
 ],
 "metadata": {
  "kernelspec": {
   "display_name": "Python 3 (ipykernel)",
   "language": "python",
   "name": "python3"
  },
  "language_info": {
   "codemirror_mode": {
    "name": "ipython",
    "version": 3
   },
   "file_extension": ".py",
   "mimetype": "text/x-python",
   "name": "python",
   "nbconvert_exporter": "python",
   "pygments_lexer": "ipython3",
   "version": "3.7.12"
  }
 },
 "nbformat": 4,
 "nbformat_minor": 5
}
