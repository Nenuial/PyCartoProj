{
 "cells": [
  {
   "cell_type": "code",
   "execution_count": 1,
   "id": "a4e213e8-bb5b-43fa-8047-6464c43f1464",
   "metadata": {},
   "outputs": [],
   "source": [
    "import pandas as pd\n",
    "import geopandas as gpd\n",
    "import matplotlib.pyplot as plt\n",
    "from matplotlib.colors import TwoSlopeNorm"
   ]
  },
  {
   "cell_type": "code",
   "execution_count": 2,
   "id": "e2818c3b-e695-4cca-90f5-e11cceb7beb7",
   "metadata": {},
   "outputs": [],
   "source": [
    "cantons = gpd.read_file('geodata/Cantons.shp')"
   ]
  },
  {
   "cell_type": "code",
   "execution_count": 3,
   "id": "8290f960-a676-4d07-83d9-afbd1618af17",
   "metadata": {},
   "outputs": [],
   "source": [
    "pop = pd.read_csv('statdata/swiss_pop_2021.csv')\n",
    "nat = pd.read_csv('statdata/swiss_nat_2021.csv')"
   ]
  }
 ],
 "metadata": {
  "kernelspec": {
   "display_name": "Python 3 (ipykernel)",
   "language": "python",
   "name": "python3"
  },
  "language_info": {
   "codemirror_mode": {
    "name": "ipython",
    "version": 3
   },
   "file_extension": ".py",
   "mimetype": "text/x-python",
   "name": "python",
   "nbconvert_exporter": "python",
   "pygments_lexer": "ipython3",
   "version": "3.7.12"
  }
 },
 "nbformat": 4,
 "nbformat_minor": 5
}
